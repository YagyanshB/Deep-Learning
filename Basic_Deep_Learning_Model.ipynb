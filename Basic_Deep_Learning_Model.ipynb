{
  "nbformat": 4,
  "nbformat_minor": 0,
  "metadata": {
    "colab": {
      "provenance": [],
      "authorship_tag": "ABX9TyP/X/FaJxsZ0JvKCvVN7jn4",
      "include_colab_link": true
    },
    "kernelspec": {
      "name": "python3",
      "display_name": "Python 3"
    },
    "language_info": {
      "name": "python"
    }
  },
  "cells": [
    {
      "cell_type": "markdown",
      "metadata": {
        "id": "view-in-github",
        "colab_type": "text"
      },
      "source": [
        "<a href=\"https://colab.research.google.com/github/YagyanshB/Deep-Learning/blob/main/Basic_Deep_Learning_Model.ipynb\" target=\"_parent\"><img src=\"https://colab.research.google.com/assets/colab-badge.svg\" alt=\"Open In Colab\"/></a>"
      ]
    },
    {
      "cell_type": "code",
      "execution_count": 3,
      "metadata": {
        "id": "bVHNhAYFhWjc"
      },
      "outputs": [],
      "source": [
        "# Building a Deep Learning model using Keras\n",
        "\n",
        "from tensorflow import keras\n",
        "from tensorflow.keras import layers"
      ]
    },
    {
      "cell_type": "code",
      "source": [
        "# Creating a network with 1 linear unit\n",
        "\n",
        "model = keras.Sequential([\n",
        "    layers.Dense(units = 1, input_shape =[3])\n",
        "    ])"
      ],
      "metadata": {
        "id": "8sOJrUxdhiNT"
      },
      "execution_count": 5,
      "outputs": []
    }
  ]
}